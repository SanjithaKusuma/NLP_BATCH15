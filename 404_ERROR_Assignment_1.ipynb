{
  "nbformat": 4,
  "nbformat_minor": 0,
  "metadata": {
    "colab": {
      "provenance": [],
      "include_colab_link": true
    },
    "kernelspec": {
      "name": "python3",
      "display_name": "Python 3"
    },
    "language_info": {
      "name": "python"
    }
  },
  "cells": [
    {
      "cell_type": "markdown",
      "metadata": {
        "id": "view-in-github",
        "colab_type": "text"
      },
      "source": [
        "<a href=\"https://colab.research.google.com/github/SanjithaKusuma/NLP_BATCH15/blob/main/404_ERROR_Assignment_1.ipynb\" target=\"_parent\"><img src=\"https://colab.research.google.com/assets/colab-badge.svg\" alt=\"Open In Colab\"/></a>"
      ]
    },
    {
      "cell_type": "markdown",
      "source": [
        "Loading Text Datasets from Different Resources\n",
        "(i) Loading a Text File\n",
        "\n",
        "(ii) Loading Text Data from a CSV File\n",
        "\n",
        "(iii) Loading Text Data from an Online Source\n",
        "\n",
        "(iv)  Loading Built-in Text Datasets with NLTK\n",
        "\n",
        "(v) Loading Text Data Using Hugging Face Datasets"
      ],
      "metadata": {
        "id": "bZodoSleI7L3"
      }
    },
    {
      "cell_type": "code",
      "source": [
        "from google.colab import drive\n",
        "\n",
        "\n",
        "\n",
        "file_path = '/content/drive/My Drive/sample.txt'\n",
        "\n",
        "with open(file_path, 'r') as file:\n",
        "    text_data = file.read()\n",
        "\n",
        "print(text_data)"
      ],
      "metadata": {
        "colab": {
          "base_uri": "https://localhost:8080/"
        },
        "id": "YS5yV5AuLgFP",
        "outputId": "3f6964a7-f4c4-4455-ab18-eb4303c6bb6b"
      },
      "execution_count": null,
      "outputs": [
        {
          "output_type": "stream",
          "name": "stdout",
          "text": [
            "Welcome to NLP\n"
          ]
        }
      ]
    },
    {
      "cell_type": "markdown",
      "source": [
        "\n",
        "(ii) Loading Text Data from a CSV File"
      ],
      "metadata": {
        "id": "D8k-rL71NAnC"
      }
    },
    {
      "cell_type": "code",
      "source": [
        "from google.colab import drive\n",
        "filepath = '/content/drive/My Drive/survey.csv'\n",
        "df = pd.read_csv(filepath)\n",
        "\n",
        "# Display the first few rows of the dataframe\n",
        "print(df.head())\n"
      ],
      "metadata": {
        "colab": {
          "base_uri": "https://localhost:8080/"
        },
        "id": "Llkjp3r1N1CF",
        "outputId": "1ac9d517-8370-41a0-b0a5-3589f54ff507"
      },
      "execution_count": null,
      "outputs": [
        {
          "output_type": "stream",
          "name": "stdout",
          "text": [
            "   Year Industry_aggregation_NZSIOC Industry_code_NZSIOC Industry_name_NZSIOC  \\\n",
            "0  2023                     Level 1                99999       All industries   \n",
            "1  2023                     Level 1                99999       All industries   \n",
            "2  2023                     Level 1                99999       All industries   \n",
            "3  2023                     Level 1                99999       All industries   \n",
            "4  2023                     Level 1                99999       All industries   \n",
            "\n",
            "                Units Variable_code  \\\n",
            "0  Dollars (millions)           H01   \n",
            "1  Dollars (millions)           H04   \n",
            "2  Dollars (millions)           H05   \n",
            "3  Dollars (millions)           H07   \n",
            "4  Dollars (millions)           H08   \n",
            "\n",
            "                                     Variable_name      Variable_category  \\\n",
            "0                                     Total income  Financial performance   \n",
            "1  Sales, government funding, grants and subsidies  Financial performance   \n",
            "2                Interest, dividends and donations  Financial performance   \n",
            "3                             Non-operating income  Financial performance   \n",
            "4                                Total expenditure  Financial performance   \n",
            "\n",
            "    Value                             Industry_code_ANZSIC06  \n",
            "0  930995  ANZSIC06 divisions A-S (excluding classes K633...  \n",
            "1  821630  ANZSIC06 divisions A-S (excluding classes K633...  \n",
            "2   84354  ANZSIC06 divisions A-S (excluding classes K633...  \n",
            "3   25010  ANZSIC06 divisions A-S (excluding classes K633...  \n",
            "4  832964  ANZSIC06 divisions A-S (excluding classes K633...  \n"
          ]
        }
      ]
    },
    {
      "cell_type": "markdown",
      "source": [
        "(iii) Loading Text Data from an Online Source"
      ],
      "metadata": {
        "id": "eL_29sTqOK4Q"
      }
    },
    {
      "cell_type": "code",
      "source": [
        "import requests\n",
        "from bs4 import BeautifulSoup\n",
        "url = 'https://sru.edu.in/'\n",
        "response = requests.get(url)\n",
        "html_content = response.text\n",
        "soup = BeautifulSoup(html_content, 'html.parser')\n",
        "text = soup.get_text()\n",
        "print(\"Extracted Text:\\n\", text[:500])"
      ],
      "metadata": {
        "colab": {
          "base_uri": "https://localhost:8080/"
        },
        "id": "wCox9v2bOLzs",
        "outputId": "8028794c-ab17-436c-beef-da24e5a77547"
      },
      "execution_count": null,
      "outputs": [
        {
          "output_type": "stream",
          "name": "stdout",
          "text": [
            "Extracted Text:\n",
            " \n",
            "\n",
            "\n",
            "\n",
            "SR University\n",
            "\n",
            "\n",
            "\n",
            "\n",
            "\n",
            "\n",
            "\n",
            "\n",
            "\n",
            "\n",
            "\n",
            "\n",
            "\n",
            "\n",
            "\n",
            "\n",
            "\n",
            "\n",
            "\n",
            "\n",
            "\n",
            "\n",
            "\n",
            "\n",
            "\n",
            "\n",
            "\n",
            "\n",
            "\n",
            "\n",
            "\n",
            "\n",
            "\n",
            "\n",
            "\n",
            "\n",
            "\n",
            "\n",
            "\n",
            "\n",
            "\n",
            "\n",
            "\n",
            "\n",
            "\n",
            "\n",
            "\n",
            "\n",
            "\n",
            "\n",
            "\n",
            "\n",
            " \n",
            "\n",
            " (870) 281-8333/8311\n",
            " \n",
            "\n",
            " info@sru.edu.in\n",
            "\n",
            "\n",
            "\n",
            "\n",
            "\n",
            "\n",
            "Online Payment\n",
            "\n",
            "\n",
            "Minors & Honours\n",
            "Careers\n",
            "SRiX\n",
            "SRAaP\n",
            "Visit Us\n",
            "\n",
            "Alumni\n",
            "\n",
            "\n",
            "Apply Now\n",
            "\n",
            "\n",
            "\n",
            "\n",
            "\n",
            "\n",
            "\n",
            "\n",
            "\n",
            "\n",
            "\n",
            "\n",
            "\n",
            "\n",
            "\n",
            "\n",
            "\n",
            "\n",
            "\n",
            "\n",
            "About\n",
            "\n",
            "\n",
            "Academics\n",
            "\n",
            "\n",
            "\n",
            "\n",
            "\n",
            "Programs\n",
            "\n",
            "\n",
            "\r\n",
            "                        Centers\r\n",
            "                    \n",
            "\n",
            "Nest for Entrepreneurship in Science & Technology\n",
            "Center for Creative Cognition\n",
            "Center for Design\n",
            "Center for Embedded System & IoT\n",
            "Center for AI & Deep Learning\n",
            "Collaboratory for Social I\n"
          ]
        }
      ]
    },
    {
      "cell_type": "markdown",
      "source": [
        "Loading Built-in Text Datasets with NLTK"
      ],
      "metadata": {
        "id": "sXkw8ZovPjqw"
      }
    },
    {
      "cell_type": "code",
      "source": [
        "import nltk\n",
        "from nltk.corpus import gutenberg\n",
        "nltk.download('gutenberg')\n",
        "text_data = gutenberg.raw('austen-emma.txt')\n",
        "print(text_data[:500])"
      ],
      "metadata": {
        "colab": {
          "base_uri": "https://localhost:8080/"
        },
        "id": "rUGxyGEFPxQw",
        "outputId": "3df7f103-2119-41c0-abb6-3d8992ba5a0a"
      },
      "execution_count": null,
      "outputs": [
        {
          "output_type": "stream",
          "name": "stderr",
          "text": [
            "[nltk_data] Downloading package gutenberg to /root/nltk_data...\n",
            "[nltk_data]   Unzipping corpora/gutenberg.zip.\n"
          ]
        },
        {
          "output_type": "stream",
          "name": "stdout",
          "text": [
            "[Emma by Jane Austen 1816]\n",
            "\n",
            "VOLUME I\n",
            "\n",
            "CHAPTER I\n",
            "\n",
            "\n",
            "Emma Woodhouse, handsome, clever, and rich, with a comfortable home\n",
            "and happy disposition, seemed to unite some of the best blessings\n",
            "of existence; and had lived nearly twenty-one years in the world\n",
            "with very little to distress or vex her.\n",
            "\n",
            "She was the youngest of the two daughters of a most affectionate,\n",
            "indulgent father; and had, in consequence of her sister's marriage,\n",
            "been mistress of his house from a very early period.  Her mother\n",
            "had died t\n"
          ]
        }
      ]
    },
    {
      "cell_type": "markdown",
      "source": [
        "Loading Text Data Using Hugging Face Datasets"
      ],
      "metadata": {
        "id": "vud34xP5QlXx"
      }
    },
    {
      "cell_type": "code",
      "source": [
        "from datasets import load_dataset\n",
        "\n",
        "# Example: Loading the IMDb dataset\n",
        "dataset = load_dataset('imdb')\n",
        "\n",
        "# Display the first few rows of the dataset\n",
        "print(dataset['train'][0])\n"
      ],
      "metadata": {
        "colab": {
          "base_uri": "https://localhost:8080/"
        },
        "id": "bWNjgCaORpG2",
        "outputId": "9a112871-2294-46d4-8205-f857ac6d4e10"
      },
      "execution_count": null,
      "outputs": [
        {
          "output_type": "stream",
          "name": "stdout",
          "text": [
            "{'text': 'I rented I AM CURIOUS-YELLOW from my video store because of all the controversy that surrounded it when it was first released in 1967. I also heard that at first it was seized by U.S. customs if it ever tried to enter this country, therefore being a fan of films considered \"controversial\" I really had to see this for myself.<br /><br />The plot is centered around a young Swedish drama student named Lena who wants to learn everything she can about life. In particular she wants to focus her attentions to making some sort of documentary on what the average Swede thought about certain political issues such as the Vietnam War and race issues in the United States. In between asking politicians and ordinary denizens of Stockholm about their opinions on politics, she has sex with her drama teacher, classmates, and married men.<br /><br />What kills me about I AM CURIOUS-YELLOW is that 40 years ago, this was considered pornographic. Really, the sex and nudity scenes are few and far between, even then it\\'s not shot like some cheaply made porno. While my countrymen mind find it shocking, in reality sex and nudity are a major staple in Swedish cinema. Even Ingmar Bergman, arguably their answer to good old boy John Ford, had sex scenes in his films.<br /><br />I do commend the filmmakers for the fact that any sex shown in the film is shown for artistic purposes rather than just to shock people and make money to be shown in pornographic theaters in America. I AM CURIOUS-YELLOW is a good film for anyone wanting to study the meat and potatoes (no pun intended) of Swedish cinema. But really, this film doesn\\'t have much of a plot.', 'label': 0}\n"
          ]
        }
      ]
    },
    {
      "cell_type": "markdown",
      "source": [
        "Take your own text or take text as “The bank can guarantee deposits will eventually cover future tuition costs because it invests in adjustable-rate mortgage securities.\" Implement Ambiguity Removal in the text. [CO1]"
      ],
      "metadata": {
        "id": "rhHxbzOZUd4L"
      }
    },
    {
      "cell_type": "code",
      "source": [
        "import pandas as pd\n",
        "\n",
        "data = {\n",
        "    'Text': [\n",
        "        \"The bank can guarantee deposits will eventually cover future tuition costs because it invests in adjustable-rate mortgage securities.\"\n",
        "    ]\n",
        "}\n",
        "\n",
        "df = pd.DataFrame(data)\n",
        "\n",
        "print(\"Original dataset:\")\n",
        "print(df.head())\n",
        "\n",
        "print(\"\\nMissing values in each column:\")\n",
        "print(df.isnull().sum())\n",
        "\n",
        "print(\"\\nNumber of duplicate rows:\", df.duplicated().sum())\n",
        "df_cleaned = df.drop_duplicates()\n",
        "\n",
        "df_cleaned['Text'] = df_cleaned['Text'].str.lower()\n",
        "\n",
        "print(\"\\nCleaned data after standardization:\")\n",
        "print(df_cleaned.head())\n",
        "\n",
        "cleaned_file_path = 'cleaned_sample_dataset.csv'\n",
        "df_cleaned.to_csv(cleaned_file_path, index=False)\n",
        "\n",
        "from google.colab import files\n",
        "files.download(cleaned_file_path)"
      ],
      "metadata": {
        "colab": {
          "base_uri": "https://localhost:8080/",
          "height": 243
        },
        "id": "SHBMOhbaUiIg",
        "outputId": "06aa4b8d-3fc7-4925-af49-c3ab442af38b"
      },
      "execution_count": null,
      "outputs": [
        {
          "output_type": "stream",
          "name": "stdout",
          "text": [
            "Original dataset:\n",
            "                                                Text\n",
            "0  The bank can guarantee deposits will eventuall...\n",
            "\n",
            "Missing values in each column:\n",
            "Text    0\n",
            "dtype: int64\n",
            "\n",
            "Number of duplicate rows: 0\n",
            "\n",
            "Cleaned data after standardization:\n",
            "                                                Text\n",
            "0  the bank can guarantee deposits will eventuall...\n"
          ]
        },
        {
          "output_type": "display_data",
          "data": {
            "text/plain": [
              "<IPython.core.display.Javascript object>"
            ],
            "application/javascript": [
              "\n",
              "    async function download(id, filename, size) {\n",
              "      if (!google.colab.kernel.accessAllowed) {\n",
              "        return;\n",
              "      }\n",
              "      const div = document.createElement('div');\n",
              "      const label = document.createElement('label');\n",
              "      label.textContent = `Downloading \"${filename}\": `;\n",
              "      div.appendChild(label);\n",
              "      const progress = document.createElement('progress');\n",
              "      progress.max = size;\n",
              "      div.appendChild(progress);\n",
              "      document.body.appendChild(div);\n",
              "\n",
              "      const buffers = [];\n",
              "      let downloaded = 0;\n",
              "\n",
              "      const channel = await google.colab.kernel.comms.open(id);\n",
              "      // Send a message to notify the kernel that we're ready.\n",
              "      channel.send({})\n",
              "\n",
              "      for await (const message of channel.messages) {\n",
              "        // Send a message to notify the kernel that we're ready.\n",
              "        channel.send({})\n",
              "        if (message.buffers) {\n",
              "          for (const buffer of message.buffers) {\n",
              "            buffers.push(buffer);\n",
              "            downloaded += buffer.byteLength;\n",
              "            progress.value = downloaded;\n",
              "          }\n",
              "        }\n",
              "      }\n",
              "      const blob = new Blob(buffers, {type: 'application/binary'});\n",
              "      const a = document.createElement('a');\n",
              "      a.href = window.URL.createObjectURL(blob);\n",
              "      a.download = filename;\n",
              "      div.appendChild(a);\n",
              "      a.click();\n",
              "      div.remove();\n",
              "    }\n",
              "  "
            ]
          },
          "metadata": {}
        },
        {
          "output_type": "display_data",
          "data": {
            "text/plain": [
              "<IPython.core.display.Javascript object>"
            ],
            "application/javascript": [
              "download(\"download_a491953f-9958-432a-80a1-f56210f9953b\", \"cleaned_sample_dataset.csv\", 139)"
            ]
          },
          "metadata": {}
        }
      ]
    },
    {
      "cell_type": "markdown",
      "source": [
        "Take your own text or take text as “Hello there! How are you doing today? NLP is fascinating.\" Implement Sentence Segmentation in the text.    "
      ],
      "metadata": {
        "id": "1uMO8A9AUxEk"
      }
    },
    {
      "cell_type": "code",
      "source": [
        "import nltk\n",
        "from nltk.tokenize import word_tokenize, sent_tokenize\n",
        "\n",
        "import pandas as pd\n",
        "\n",
        "data = {\n",
        "    'Text': [\n",
        "         \"Hello there! How are you doing today? NLP is fascinating.\"\n",
        "    ]\n",
        "}\n",
        "\n",
        "df = pd.DataFrame(data)\n",
        "\n",
        "df.head()\n",
        "\n",
        "df['Sentences'] = df['Text'].apply(sent_tokenize)\n",
        "\n",
        "df[['Text', 'Sentences']].head()\n",
        "\n",
        "df['Words'] = df['Text'].apply(word_tokenize)\n",
        "\n",
        "df[['Text', 'Words']].head()\n",
        "\n",
        "segmented_file_path = 'segmented_text_dataset.csv'\n",
        "df.to_csv(segmented_file_path, index=False)\n",
        "from google.colab import files\n",
        "\n",
        "files.download(segmented_file_path)"
      ],
      "metadata": {
        "colab": {
          "base_uri": "https://localhost:8080/",
          "height": 17
        },
        "id": "9XFstz70U13n",
        "outputId": "94061128-f5bb-4224-cc0c-a71167891e24"
      },
      "execution_count": null,
      "outputs": [
        {
          "output_type": "display_data",
          "data": {
            "text/plain": [
              "<IPython.core.display.Javascript object>"
            ],
            "application/javascript": [
              "\n",
              "    async function download(id, filename, size) {\n",
              "      if (!google.colab.kernel.accessAllowed) {\n",
              "        return;\n",
              "      }\n",
              "      const div = document.createElement('div');\n",
              "      const label = document.createElement('label');\n",
              "      label.textContent = `Downloading \"${filename}\": `;\n",
              "      div.appendChild(label);\n",
              "      const progress = document.createElement('progress');\n",
              "      progress.max = size;\n",
              "      div.appendChild(progress);\n",
              "      document.body.appendChild(div);\n",
              "\n",
              "      const buffers = [];\n",
              "      let downloaded = 0;\n",
              "\n",
              "      const channel = await google.colab.kernel.comms.open(id);\n",
              "      // Send a message to notify the kernel that we're ready.\n",
              "      channel.send({})\n",
              "\n",
              "      for await (const message of channel.messages) {\n",
              "        // Send a message to notify the kernel that we're ready.\n",
              "        channel.send({})\n",
              "        if (message.buffers) {\n",
              "          for (const buffer of message.buffers) {\n",
              "            buffers.push(buffer);\n",
              "            downloaded += buffer.byteLength;\n",
              "            progress.value = downloaded;\n",
              "          }\n",
              "        }\n",
              "      }\n",
              "      const blob = new Blob(buffers, {type: 'application/binary'});\n",
              "      const a = document.createElement('a');\n",
              "      a.href = window.URL.createObjectURL(blob);\n",
              "      a.download = filename;\n",
              "      div.appendChild(a);\n",
              "      a.click();\n",
              "      div.remove();\n",
              "    }\n",
              "  "
            ]
          },
          "metadata": {}
        },
        {
          "output_type": "display_data",
          "data": {
            "text/plain": [
              "<IPython.core.display.Javascript object>"
            ],
            "application/javascript": [
              "download(\"download_78f4270b-2000-4bfb-b73b-c9bacc9da9e4\", \"segmented_text_dataset.csv\", 252)"
            ]
          },
          "metadata": {}
        }
      ]
    }
  ]
}